{
 "cells": [
  {
   "cell_type": "code",
   "execution_count": 1,
   "metadata": {},
   "outputs": [
    {
     "name": "stderr",
     "output_type": "stream",
     "text": [
      "/usr/local/lib/python3.5/dist-packages/h5py/__init__.py:36: FutureWarning: Conversion of the second argument of issubdtype from `float` to `np.floating` is deprecated. In future, it will be treated as `np.float64 == np.dtype(float).type`.\n",
      "  from ._conv import register_converters as _register_converters\n",
      "Using TensorFlow backend.\n"
     ]
    }
   ],
   "source": [
    "import os\n",
    "import time\n",
    "from math import floor, ceil\n",
    "\n",
    "import numpy\n",
    "from keras import layers, metrics\n",
    "from keras import models, optimizers\n",
    "from keras.applications import VGG16\n",
    "from sklearn.metrics import precision_recall_fscore_support as score\n",
    "from sklearn.metrics import accuracy_score\n",
    "from sklearn.model_selection import train_test_split\n",
    "\n",
    "from utils import *\n",
    "from PIL import ImageFile\n",
    "\n",
    "ImageFile.LOAD_TRUNCATED_IMAGES = True\n",
    "\n",
    "train_dir = '/home/snowflake/Documents/nowe_trendy/train'\n",
    "test_dir = '/home/snowflake/Documents/nowe_trendy/test'\n",
    "\n",
    "path, dirs, files = os.walk(train_dir).__next__()\n",
    "\n",
    "val_size = 0.15\n",
    "nTrain = sum([len(files) for r, d, files in os.walk(train_dir)]) - len(dirs)\n",
    "nVal = ceil(nTrain * val_size)\n",
    "path, dirs, files = os.walk(test_dir).__next__()\n",
    "nTest = sum([len(files) for r, d, files in os.walk(test_dir)]) - len(dirs)\n",
    "nClasses = len(dirs)\n",
    "batch_size = 20\n",
    "dense_size = 256\n",
    "epochs = 10\n",
    "\n",
    "conv_base = VGG16(weights='imagenet',\n",
    "                  include_top=False,\n",
    "                  input_shape=(224, 224, 3))\n",
    "\n"
   ]
  },
  {
   "cell_type": "code",
   "execution_count": 2,
   "metadata": {
    "scrolled": false
   },
   "outputs": [],
   "source": [
    "train_features = np.load(open(\"/media/snowflake/Data/train_features.dat\", \"rb\"))\n",
    "train_labels = np.load(open(\"/media/snowflake/Data/train_labels.dat\", \"rb\"))\n",
    "validation_features = np.load(open(\"/media/snowflake/Data/validation_features.dat\", \"rb\"))\n",
    "validation_labels = np.load(open(\"/media/snowflake/Data/validation_labels.dat\", \"rb\"))\n",
    "test_features = np.load(open(\"/media/snowflake/Data/test_features.dat\", \"rb\"))\n",
    "test_labels = np.load(open(\"/media/snowflake/Data/test_labels.dat\", \"rb\"))"
   ]
  },
  {
   "cell_type": "code",
   "execution_count": 50,
   "metadata": {},
   "outputs": [],
   "source": [
    "epochs = 40\n",
    "batch_size = 64\n",
    "dense_size = 1024\n",
    "lr=0.001\n",
    "momentum=0.6\n",
    "#2e-4"
   ]
  },
  {
   "cell_type": "code",
   "execution_count": 51,
   "metadata": {},
   "outputs": [
    {
     "name": "stdout",
     "output_type": "stream",
     "text": [
      "**********Configure model for training************\n"
     ]
    }
   ],
   "source": [
    "print(\"**********Configure model for training************\")\n",
    "model = models.Sequential()\n",
    "model.add(layers.Dense(dense_size, activation='relu', input_dim=7 * 7 * 512))\n",
    "model.add(layers.Dropout(0.5))\n",
    "model.add(layers.Dense(nClasses, activation='softmax'))\n",
    "\n",
    "model.compile(optimizer=optimizers.SGD(lr, momentum),\n",
    "              loss='categorical_crossentropy',\n",
    "              metrics=[metrics.categorical_accuracy])"
   ]
  },
  {
   "cell_type": "code",
   "execution_count": 52,
   "metadata": {
    "scrolled": false
   },
   "outputs": [
    {
     "name": "stdout",
     "output_type": "stream",
     "text": [
      "**********Start of training************\n",
      "Train on 15975 samples, validate on 3413 samples\n",
      "Epoch 1/40\n",
      "15975/15975 [==============================] - 46s 3ms/step - loss: 2.2920 - categorical_accuracy: 0.2198 - val_loss: 2.0759 - val_categorical_accuracy: 0.3117\n",
      "Epoch 2/40\n",
      "15975/15975 [==============================] - 45s 3ms/step - loss: 2.0112 - categorical_accuracy: 0.3234 - val_loss: 1.8860 - val_categorical_accuracy: 0.3683\n",
      "Epoch 3/40\n",
      "15975/15975 [==============================] - 46s 3ms/step - loss: 1.8775 - categorical_accuracy: 0.3679 - val_loss: 1.8039 - val_categorical_accuracy: 0.4005\n",
      "Epoch 4/40\n",
      "15975/15975 [==============================] - 46s 3ms/step - loss: 1.7749 - categorical_accuracy: 0.4038 - val_loss: 1.7742 - val_categorical_accuracy: 0.4011\n",
      "Epoch 5/40\n",
      "15975/15975 [==============================] - 46s 3ms/step - loss: 1.7058 - categorical_accuracy: 0.4307 - val_loss: 1.6976 - val_categorical_accuracy: 0.4240\n",
      "Epoch 6/40\n",
      "15975/15975 [==============================] - 47s 3ms/step - loss: 1.6570 - categorical_accuracy: 0.4454 - val_loss: 1.6559 - val_categorical_accuracy: 0.4486\n",
      "Epoch 7/40\n",
      "15975/15975 [==============================] - 47s 3ms/step - loss: 1.6090 - categorical_accuracy: 0.4617 - val_loss: 1.6250 - val_categorical_accuracy: 0.4606\n",
      "Epoch 8/40\n",
      "15975/15975 [==============================] - 48s 3ms/step - loss: 1.5669 - categorical_accuracy: 0.4819 - val_loss: 1.6248 - val_categorical_accuracy: 0.4539\n",
      "Epoch 9/40\n",
      "15975/15975 [==============================] - 49s 3ms/step - loss: 1.5291 - categorical_accuracy: 0.4963 - val_loss: 1.6047 - val_categorical_accuracy: 0.4673\n",
      "Epoch 10/40\n",
      "15975/15975 [==============================] - 49s 3ms/step - loss: 1.4976 - categorical_accuracy: 0.5041 - val_loss: 1.6274 - val_categorical_accuracy: 0.4506\n",
      "Epoch 11/40\n",
      "15975/15975 [==============================] - 49s 3ms/step - loss: 1.4658 - categorical_accuracy: 0.5132 - val_loss: 1.5856 - val_categorical_accuracy: 0.4600\n",
      "Epoch 12/40\n",
      "15975/15975 [==============================] - 50s 3ms/step - loss: 1.4361 - categorical_accuracy: 0.5289 - val_loss: 1.5495 - val_categorical_accuracy: 0.4808\n",
      "Epoch 13/40\n",
      "15975/15975 [==============================] - 48s 3ms/step - loss: 1.4129 - categorical_accuracy: 0.5301 - val_loss: 1.5363 - val_categorical_accuracy: 0.4849\n",
      "Epoch 14/40\n",
      "15975/15975 [==============================] - 46s 3ms/step - loss: 1.3867 - categorical_accuracy: 0.5399 - val_loss: 1.5546 - val_categorical_accuracy: 0.4776\n",
      "Epoch 15/40\n",
      "15975/15975 [==============================] - 49s 3ms/step - loss: 1.3584 - categorical_accuracy: 0.5529 - val_loss: 1.5458 - val_categorical_accuracy: 0.4752\n",
      "Epoch 16/40\n",
      "15975/15975 [==============================] - 47s 3ms/step - loss: 1.3403 - categorical_accuracy: 0.5616 - val_loss: 1.5193 - val_categorical_accuracy: 0.4890\n",
      "Epoch 17/40\n",
      "15975/15975 [==============================] - 51s 3ms/step - loss: 1.3221 - categorical_accuracy: 0.5622 - val_loss: 1.5124 - val_categorical_accuracy: 0.4908\n",
      "Epoch 18/40\n",
      "15975/15975 [==============================] - 50s 3ms/step - loss: 1.2981 - categorical_accuracy: 0.5746 - val_loss: 1.5113 - val_categorical_accuracy: 0.4875\n",
      "Epoch 19/40\n",
      "15975/15975 [==============================] - 50s 3ms/step - loss: 1.2828 - categorical_accuracy: 0.5765 - val_loss: 1.5183 - val_categorical_accuracy: 0.4873\n",
      "Epoch 20/40\n",
      "15975/15975 [==============================] - 54s 3ms/step - loss: 1.2598 - categorical_accuracy: 0.5865 - val_loss: 1.4818 - val_categorical_accuracy: 0.5025\n",
      "Epoch 21/40\n",
      "15975/15975 [==============================] - 54s 3ms/step - loss: 1.2414 - categorical_accuracy: 0.5919 - val_loss: 1.5002 - val_categorical_accuracy: 0.4922\n",
      "Epoch 22/40\n",
      "15975/15975 [==============================] - 55s 3ms/step - loss: 1.2169 - categorical_accuracy: 0.6020 - val_loss: 1.4903 - val_categorical_accuracy: 0.5107\n",
      "Epoch 23/40\n",
      "15975/15975 [==============================] - 51s 3ms/step - loss: 1.2006 - categorical_accuracy: 0.6065 - val_loss: 1.5039 - val_categorical_accuracy: 0.4922\n",
      "Epoch 24/40\n",
      "15975/15975 [==============================] - 51s 3ms/step - loss: 1.1829 - categorical_accuracy: 0.6125 - val_loss: 1.4717 - val_categorical_accuracy: 0.5057\n",
      "Epoch 25/40\n",
      "15975/15975 [==============================] - 57s 4ms/step - loss: 1.1692 - categorical_accuracy: 0.6177 - val_loss: 1.4727 - val_categorical_accuracy: 0.5051\n",
      "Epoch 26/40\n",
      "15975/15975 [==============================] - 51s 3ms/step - loss: 1.1457 - categorical_accuracy: 0.6278 - val_loss: 1.4853 - val_categorical_accuracy: 0.5040\n",
      "Epoch 27/40\n",
      "15975/15975 [==============================] - 51s 3ms/step - loss: 1.1373 - categorical_accuracy: 0.6323 - val_loss: 1.4685 - val_categorical_accuracy: 0.5148\n",
      "Epoch 28/40\n",
      "15975/15975 [==============================] - 60s 4ms/step - loss: 1.1135 - categorical_accuracy: 0.6347 - val_loss: 1.4687 - val_categorical_accuracy: 0.5004\n",
      "Epoch 29/40\n",
      "15975/15975 [==============================] - 51s 3ms/step - loss: 1.0981 - categorical_accuracy: 0.6436 - val_loss: 1.4579 - val_categorical_accuracy: 0.5019\n",
      "Epoch 30/40\n",
      "15975/15975 [==============================] - 52s 3ms/step - loss: 1.0810 - categorical_accuracy: 0.6519 - val_loss: 1.4783 - val_categorical_accuracy: 0.5081\n",
      "Epoch 31/40\n",
      "15975/15975 [==============================] - 53s 3ms/step - loss: 1.0686 - categorical_accuracy: 0.6525 - val_loss: 1.4479 - val_categorical_accuracy: 0.5151\n",
      "Epoch 32/40\n",
      "15975/15975 [==============================] - 51s 3ms/step - loss: 1.0542 - categorical_accuracy: 0.6586 - val_loss: 1.4604 - val_categorical_accuracy: 0.5119\n",
      "Epoch 33/40\n",
      "15975/15975 [==============================] - 56s 4ms/step - loss: 1.0352 - categorical_accuracy: 0.6635 - val_loss: 1.4429 - val_categorical_accuracy: 0.5130\n",
      "Epoch 34/40\n",
      "15975/15975 [==============================] - 54s 3ms/step - loss: 1.0191 - categorical_accuracy: 0.6724 - val_loss: 1.4453 - val_categorical_accuracy: 0.5107\n",
      "Epoch 35/40\n",
      "15975/15975 [==============================] - 51s 3ms/step - loss: 1.0033 - categorical_accuracy: 0.6809 - val_loss: 1.4544 - val_categorical_accuracy: 0.5142\n",
      "Epoch 36/40\n",
      "15975/15975 [==============================] - 54s 3ms/step - loss: 0.9903 - categorical_accuracy: 0.6833 - val_loss: 1.4379 - val_categorical_accuracy: 0.5183\n",
      "Epoch 37/40\n",
      "15975/15975 [==============================] - 53s 3ms/step - loss: 0.9750 - categorical_accuracy: 0.6859 - val_loss: 1.4365 - val_categorical_accuracy: 0.5171\n",
      "Epoch 38/40\n",
      "15975/15975 [==============================] - 51s 3ms/step - loss: 0.9585 - categorical_accuracy: 0.6957 - val_loss: 1.4405 - val_categorical_accuracy: 0.5166\n",
      "Epoch 39/40\n",
      "15975/15975 [==============================] - 59s 4ms/step - loss: 0.9461 - categorical_accuracy: 0.6990 - val_loss: 1.4347 - val_categorical_accuracy: 0.5245\n",
      "Epoch 40/40\n",
      "15975/15975 [==============================] - 54s 3ms/step - loss: 0.9271 - categorical_accuracy: 0.7041 - val_loss: 1.4396 - val_categorical_accuracy: 0.5139\n"
     ]
    }
   ],
   "source": [
    "print(\"**********Start of training************\")\n",
    "history = model.fit(train_features,\n",
    "                    train_labels,\n",
    "                    epochs=epochs,\n",
    "                    batch_size=batch_size,\n",
    "                    validation_data=(validation_features, validation_labels))"
   ]
  },
  {
   "cell_type": "code",
   "execution_count": 53,
   "metadata": {
    "scrolled": true
   },
   "outputs": [
    {
     "name": "stdout",
     "output_type": "stream",
     "text": [
      "**********End of training************\n",
      "\n",
      "\n",
      "No of errors = 711/1809\n",
      "Accuracy: 0.6095551894563427\n",
      "Weighted average Precision: 0.6141485755263442\n",
      "Weighted average Recall: 0.6095551894563427\n",
      "Weighted average F-score: 0.6055553305460621\n"
     ]
    }
   ],
   "source": [
    "print(\"**********End of training************\\n\\n\")\n",
    "\n",
    "ground_truth = [np.where(r == 1)[0][0] for r in test_labels]\n",
    "\n",
    "predictions = model.predict_classes(test_features)\n",
    "prob = model.predict(test_features)\n",
    "\n",
    "# errors = nVal - accuracy_score(ground_truth, predictions, normalize=False)\n",
    "errors = np.where(predictions != ground_truth)[0]\n",
    "accuracy = accuracy_score(ground_truth, predictions)\n",
    "precision, recall, f_score, support = score(ground_truth, predictions, average='weighted')\n",
    "\n",
    "print(\"No of errors = {}/{}\".format(len(errors), nTest))\n",
    "print(\"Accuracy: {}\".format(accuracy))\n",
    "print(\"Weighted average Precision: {}\".format(precision))\n",
    "print(\"Weighted average Recall: {}\".format(recall))\n",
    "print(\"Weighted average F-score: {}\".format(f_score))"
   ]
  }
 ],
 "metadata": {
  "kernelspec": {
   "display_name": "Python 3",
   "language": "python",
   "name": "python3"
  },
  "language_info": {
   "codemirror_mode": {
    "name": "ipython",
    "version": 3
   },
   "file_extension": ".py",
   "mimetype": "text/x-python",
   "name": "python",
   "nbconvert_exporter": "python",
   "pygments_lexer": "ipython3",
   "version": "3.5.2"
  },
  "varInspector": {
   "cols": {
    "lenName": 16,
    "lenType": 16,
    "lenVar": 40
   },
   "kernels_config": {
    "python": {
     "delete_cmd_postfix": "",
     "delete_cmd_prefix": "del ",
     "library": "var_list.py",
     "varRefreshCmd": "print(var_dic_list())"
    },
    "r": {
     "delete_cmd_postfix": ") ",
     "delete_cmd_prefix": "rm(",
     "library": "var_list.r",
     "varRefreshCmd": "cat(var_dic_list()) "
    }
   },
   "position": {
    "height": "618px",
    "left": "1047px",
    "right": "20px",
    "top": "19px",
    "width": "490px"
   },
   "types_to_exclude": [
    "module",
    "function",
    "builtin_function_or_method",
    "instance",
    "_Feature"
   ],
   "window_display": false
  }
 },
 "nbformat": 4,
 "nbformat_minor": 2
}
