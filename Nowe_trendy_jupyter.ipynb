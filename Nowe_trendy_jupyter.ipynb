{
 "cells": [
  {
   "cell_type": "code",
   "execution_count": 1,
   "metadata": {},
   "outputs": [
    {
     "name": "stderr",
     "output_type": "stream",
     "text": [
      "/usr/local/lib/python3.5/dist-packages/h5py/__init__.py:36: FutureWarning: Conversion of the second argument of issubdtype from `float` to `np.floating` is deprecated. In future, it will be treated as `np.float64 == np.dtype(float).type`.\n",
      "  from ._conv import register_converters as _register_converters\n",
      "Using TensorFlow backend.\n"
     ]
    }
   ],
   "source": [
    "import os\n",
    "import time\n",
    "from math import floor, ceil\n",
    "\n",
    "import numpy\n",
    "from keras import layers, metrics\n",
    "from keras import models, optimizers\n",
    "from keras.applications import VGG16\n",
    "from sklearn.metrics import precision_recall_fscore_support as score\n",
    "from sklearn.metrics import accuracy_score\n",
    "from sklearn.model_selection import train_test_split\n",
    "\n",
    "from utils import *\n",
    "from PIL import ImageFile\n",
    "\n",
    "ImageFile.LOAD_TRUNCATED_IMAGES = True\n",
    "\n",
    "start = time.time()\n",
    "\n",
    "train_dir = '/home/snowflake/Documents/nowe_trendy/train'\n",
    "test_dir = '/home/snowflake/Documents/nowe_trendy/test'\n",
    "\n",
    "path, dirs, files = os.walk(train_dir).__next__()\n",
    "\n",
    "val_size = 0.15\n",
    "nTrain = sum([len(files) for r, d, files in os.walk(train_dir)]) - len(dirs)\n",
    "nVal = ceil(nTrain * val_size)\n",
    "path, dirs, files = os.walk(test_dir).__next__()\n",
    "nTest = sum([len(files) for r, d, files in os.walk(test_dir)]) - len(dirs)\n",
    "nClasses = len(dirs)\n",
    "batch_size = 20\n",
    "dense_size = 256\n",
    "epochs = 10\n",
    "\n",
    "conv_base = VGG16(weights='imagenet',\n",
    "                  include_top=False,\n",
    "                  input_shape=(224, 224, 3))\n",
    "\n"
   ]
  },
  {
   "cell_type": "code",
   "execution_count": 2,
   "metadata": {},
   "outputs": [
    {
     "name": "stdout",
     "output_type": "stream",
     "text": [
      "**********Getting train features************\n",
      "Found 9694 images belonging to 12 classes.\n"
     ]
    },
    {
     "name": "stderr",
     "output_type": "stream",
     "text": [
      "/usr/local/lib/python3.5/dist-packages/PIL/TiffImagePlugin.py:756: UserWarning: Corrupt EXIF data.  Expecting to read 4 bytes but only got 0. \n",
      "  warnings.warn(str(msg))\n"
     ]
    }
   ],
   "source": [
    "print(\"**********Getting train features************\")\n",
    "all_features, all_labels = get_features_and_labels(nTrain,\n",
    "                                                                  nClasses,\n",
    "                                                                  batch_size,\n",
    "                                                                  train_dir,\n",
    "                                                                  conv_base,\n",
    "                                                                  aug=False)"
   ]
  },
  {
   "cell_type": "code",
   "execution_count": 3,
   "metadata": {},
   "outputs": [
    {
     "name": "stdout",
     "output_type": "stream",
     "text": [
      "**********Getting augmented train features************\n",
      "Found 9694 images belonging to 12 classes.\n"
     ]
    },
    {
     "name": "stderr",
     "output_type": "stream",
     "text": [
      "/usr/local/lib/python3.5/dist-packages/PIL/TiffImagePlugin.py:756: UserWarning: Corrupt EXIF data.  Expecting to read 4 bytes but only got 0. \n",
      "  warnings.warn(str(msg))\n"
     ]
    }
   ],
   "source": [
    "print(\"**********Getting augmented train features************\")\n",
    "aug_features, aug_labels = get_features_and_labels(nTrain,\n",
    "                                                                  nClasses,\n",
    "                                                                  batch_size,\n",
    "                                                                  train_dir,\n",
    "                                                                  conv_base,\n",
    "                                                                  aug=True)"
   ]
  },
  {
   "cell_type": "code",
   "execution_count": 4,
   "metadata": {
    "scrolled": false
   },
   "outputs": [],
   "source": [
    "all_features = np.concatenate((all_features, aug_features), 0)\n",
    "all_labels = np.concatenate((all_labels, aug_labels), 0)\n",
    "\n",
    "del aug_features\n",
    "del aug_labels"
   ]
  },
  {
   "cell_type": "code",
   "execution_count": 5,
   "metadata": {},
   "outputs": [],
   "source": [
    "val_size = 0.176\n",
    "nVal = ceil(nTrain * val_size)"
   ]
  },
  {
   "cell_type": "code",
   "execution_count": 6,
   "metadata": {},
   "outputs": [],
   "source": [
    "seed = 7\n",
    "numpy.random.seed(seed)\n",
    "train_features, validation_features, train_labels, validation_labels = train_test_split(all_features,\n",
    "                                                                                        all_labels,\n",
    "                                                                                        test_size=val_size,\n",
    "                                                                                        random_state=seed)"
   ]
  },
  {
   "cell_type": "code",
   "execution_count": 43,
   "metadata": {},
   "outputs": [],
   "source": [
    "epochs = 20\n",
    "batch_size = 64\n",
    "dense_size = 128"
   ]
  },
  {
   "cell_type": "code",
   "execution_count": 44,
   "metadata": {},
   "outputs": [
    {
     "name": "stdout",
     "output_type": "stream",
     "text": [
      "**********Configure model for training************\n"
     ]
    }
   ],
   "source": [
    "print(\"**********Configure model for training************\")\n",
    "model = models.Sequential()\n",
    "model.add(layers.Dense(dense_size, activation='relu', input_dim=7 * 7 * 512))\n",
    "model.add(layers.Dropout(0.5))\n",
    "model.add(layers.Dense(nClasses, activation='softmax'))\n",
    "\n",
    "model.compile(optimizer=optimizers.RMSprop(lr=2e-4),\n",
    "              loss='categorical_crossentropy',\n",
    "              metrics=[metrics.categorical_accuracy])"
   ]
  },
  {
   "cell_type": "code",
   "execution_count": 45,
   "metadata": {
    "scrolled": false
   },
   "outputs": [
    {
     "name": "stdout",
     "output_type": "stream",
     "text": [
      "**********Start of training************\n",
      "Train on 15975 samples, validate on 3413 samples\n",
      "Epoch 1/20\n",
      "15975/15975 [==============================] - 13s 838us/step - loss: 2.1818 - categorical_accuracy: 0.2597 - val_loss: 1.8958 - val_categorical_accuracy: 0.3841\n",
      "Epoch 2/20\n",
      "15975/15975 [==============================] - 13s 821us/step - loss: 1.8583 - categorical_accuracy: 0.3855 - val_loss: 1.7201 - val_categorical_accuracy: 0.4333\n",
      "Epoch 3/20\n",
      "15975/15975 [==============================] - 13s 824us/step - loss: 1.6802 - categorical_accuracy: 0.4356 - val_loss: 1.5961 - val_categorical_accuracy: 0.4659\n",
      "Epoch 4/20\n",
      "15975/15975 [==============================] - 13s 822us/step - loss: 1.5655 - categorical_accuracy: 0.4752 - val_loss: 1.5619 - val_categorical_accuracy: 0.4870\n",
      "Epoch 5/20\n",
      "15975/15975 [==============================] - 13s 823us/step - loss: 1.4761 - categorical_accuracy: 0.5048 - val_loss: 1.5408 - val_categorical_accuracy: 0.4887\n",
      "Epoch 6/20\n",
      "15975/15975 [==============================] - 13s 830us/step - loss: 1.3989 - categorical_accuracy: 0.5303 - val_loss: 1.5182 - val_categorical_accuracy: 0.4852\n",
      "Epoch 7/20\n",
      "15975/15975 [==============================] - 13s 821us/step - loss: 1.3139 - categorical_accuracy: 0.5594 - val_loss: 1.5126 - val_categorical_accuracy: 0.4960\n",
      "Epoch 8/20\n",
      "15975/15975 [==============================] - 13s 823us/step - loss: 1.2366 - categorical_accuracy: 0.5825 - val_loss: 1.4998 - val_categorical_accuracy: 0.5025\n",
      "Epoch 9/20\n",
      "15975/15975 [==============================] - 13s 819us/step - loss: 1.1895 - categorical_accuracy: 0.5990 - val_loss: 1.4896 - val_categorical_accuracy: 0.4999\n",
      "Epoch 10/20\n",
      "15975/15975 [==============================] - 13s 823us/step - loss: 1.1252 - categorical_accuracy: 0.6193 - val_loss: 1.4768 - val_categorical_accuracy: 0.5063\n",
      "Epoch 11/20\n",
      "15975/15975 [==============================] - 13s 820us/step - loss: 1.0783 - categorical_accuracy: 0.6355 - val_loss: 1.4831 - val_categorical_accuracy: 0.5107\n",
      "Epoch 12/20\n",
      "15975/15975 [==============================] - 13s 822us/step - loss: 1.0313 - categorical_accuracy: 0.6553 - val_loss: 1.5313 - val_categorical_accuracy: 0.4955\n",
      "Epoch 13/20\n",
      "15975/15975 [==============================] - 13s 827us/step - loss: 0.9779 - categorical_accuracy: 0.6701 - val_loss: 1.4835 - val_categorical_accuracy: 0.5160\n",
      "Epoch 14/20\n",
      "15975/15975 [==============================] - 14s 870us/step - loss: 0.9369 - categorical_accuracy: 0.6821 - val_loss: 1.5049 - val_categorical_accuracy: 0.5078\n",
      "Epoch 15/20\n",
      "15975/15975 [==============================] - 13s 839us/step - loss: 0.8964 - categorical_accuracy: 0.6992 - val_loss: 1.5783 - val_categorical_accuracy: 0.5084\n",
      "Epoch 16/20\n",
      "15975/15975 [==============================] - 14s 865us/step - loss: 0.8614 - categorical_accuracy: 0.7077 - val_loss: 1.5995 - val_categorical_accuracy: 0.5034\n",
      "Epoch 17/20\n",
      "15975/15975 [==============================] - 13s 840us/step - loss: 0.8277 - categorical_accuracy: 0.7208 - val_loss: 1.5406 - val_categorical_accuracy: 0.5104\n",
      "Epoch 18/20\n",
      "15975/15975 [==============================] - 13s 844us/step - loss: 0.7806 - categorical_accuracy: 0.7379 - val_loss: 1.6117 - val_categorical_accuracy: 0.4987\n",
      "Epoch 19/20\n",
      "15975/15975 [==============================] - 13s 843us/step - loss: 0.7565 - categorical_accuracy: 0.7442 - val_loss: 1.5439 - val_categorical_accuracy: 0.5245\n",
      "Epoch 20/20\n",
      "15975/15975 [==============================] - 14s 848us/step - loss: 0.7238 - categorical_accuracy: 0.7521 - val_loss: 1.5957 - val_categorical_accuracy: 0.5101\n"
     ]
    }
   ],
   "source": [
    "print(\"**********Start of training************\")\n",
    "history = model.fit(train_features,\n",
    "                    train_labels,\n",
    "                    epochs=epochs,\n",
    "                    batch_size=batch_size,\n",
    "                    validation_data=(validation_features, validation_labels))"
   ]
  },
  {
   "cell_type": "code",
   "execution_count": 46,
   "metadata": {},
   "outputs": [],
   "source": [
    "# nTest = 1821"
   ]
  },
  {
   "cell_type": "code",
   "execution_count": 47,
   "metadata": {},
   "outputs": [],
   "source": [
    "# print(\"**********Getting test features************\")\n",
    "# test_features, test_labels = get_features_and_labels(nTest,\n",
    "#                                                                      nClasses,\n",
    "#                                                                      batch_size,\n",
    "#                                                                      test_dir,\n",
    "#                                                                      conv_base,\n",
    "#                                                                     aug = False)"
   ]
  },
  {
   "cell_type": "code",
   "execution_count": 48,
   "metadata": {
    "scrolled": true
   },
   "outputs": [
    {
     "name": "stdout",
     "output_type": "stream",
     "text": [
      "**********End of training************\n",
      "\n",
      "\n",
      "No of errors = 758/1821\n",
      "Accuracy: 0.5837451949478308\n",
      "Weighted average Precision: 0.6073077208784619\n",
      "Weighted average Recall: 0.5837451949478308\n",
      "Weighted average F-score: 0.5844704216069765\n",
      "Time: 20031.195976257324\n"
     ]
    }
   ],
   "source": [
    "print(\"**********End of training************\\n\\n\")\n",
    "\n",
    "ground_truth = [np.where(r == 1)[0][0] for r in test_labels]\n",
    "\n",
    "predictions = model.predict_classes(test_features)\n",
    "prob = model.predict(test_features)\n",
    "\n",
    "# errors = nVal - accuracy_score(ground_truth, predictions, normalize=False)\n",
    "errors = np.where(predictions != ground_truth)[0]\n",
    "accuracy = accuracy_score(ground_truth, predictions)\n",
    "precision, recall, f_score, support = score(ground_truth, predictions, average='weighted')\n",
    "\n",
    "print(\"No of errors = {}/{}\".format(len(errors), nTest))\n",
    "print(\"Accuracy: {}\".format(accuracy))\n",
    "print(\"Weighted average Precision: {}\".format(precision))\n",
    "print(\"Weighted average Recall: {}\".format(recall))\n",
    "print(\"Weighted average F-score: {}\".format(f_score))\n",
    "\n",
    "end = time.time()\n",
    "print(\"Time: \" + str(end - start))\n"
   ]
  },
  {
   "cell_type": "code",
   "execution_count": 49,
   "metadata": {},
   "outputs": [],
   "source": [
    "# f = open(\"/media/snowflake/Data/features.dat\", \"wb+\")\n",
    "# np.save(f, all_features)"
   ]
  },
  {
   "cell_type": "code",
   "execution_count": 50,
   "metadata": {},
   "outputs": [],
   "source": [
    "# f = open(\"/media/snowflake/Data/labels.dat\", \"wb+\")\n",
    "# np.save(f, all_labels)"
   ]
  }
 ],
 "metadata": {
  "kernelspec": {
   "display_name": "Python 3",
   "language": "python",
   "name": "python3"
  },
  "language_info": {
   "codemirror_mode": {
    "name": "ipython",
    "version": 3
   },
   "file_extension": ".py",
   "mimetype": "text/x-python",
   "name": "python",
   "nbconvert_exporter": "python",
   "pygments_lexer": "ipython3",
   "version": "3.5.2"
  },
  "varInspector": {
   "cols": {
    "lenName": 16,
    "lenType": 16,
    "lenVar": 40
   },
   "kernels_config": {
    "python": {
     "delete_cmd_postfix": "",
     "delete_cmd_prefix": "del ",
     "library": "var_list.py",
     "varRefreshCmd": "print(var_dic_list())"
    },
    "r": {
     "delete_cmd_postfix": ") ",
     "delete_cmd_prefix": "rm(",
     "library": "var_list.r",
     "varRefreshCmd": "cat(var_dic_list()) "
    }
   },
   "position": {
    "height": "618px",
    "left": "1047px",
    "right": "20px",
    "top": "19px",
    "width": "490px"
   },
   "types_to_exclude": [
    "module",
    "function",
    "builtin_function_or_method",
    "instance",
    "_Feature"
   ],
   "window_display": false
  }
 },
 "nbformat": 4,
 "nbformat_minor": 2
}
